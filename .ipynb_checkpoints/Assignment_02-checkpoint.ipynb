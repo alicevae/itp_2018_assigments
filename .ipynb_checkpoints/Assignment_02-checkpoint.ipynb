{
 "cells": [
  {
   "cell_type": "markdown",
   "metadata": {},
   "source": [
    "# Pandas and Matplotlib Homework"
   ]
  },
  {
   "cell_type": "code",
   "execution_count": 1,
   "metadata": {},
   "outputs": [],
   "source": [
    "#load the libraries using the normal convention\n",
    "import pandas as pd\n",
    "import numpy as np\n",
    "import matplotlib.pyplot as plt\n",
    "##prevent plotting errors\n",
    "%matplotlib inline"
   ]
  },
  {
   "cell_type": "code",
   "execution_count": 2,
   "metadata": {},
   "outputs": [
    {
     "name": "stderr",
     "output_type": "stream",
     "text": [
      "/Users/Alice/miniconda2/envs/myenv/lib/python3.7/site-packages/pandas/io/excel.py:329: FutureWarning: The `sheetname` keyword is deprecated, use `sheet_name` instead\n",
      "  **kwds)\n"
     ]
    }
   ],
   "source": [
    "#Load our excel files of interest into pandas\n",
    "NHL_Goalies = pd.read_excel('NHLGoalies2016_2017.xls',na_values='',sheetname=0) \n",
    "GAA_ = pd.read_excel('NHLGoalies2016_2017.xls',na_values='',sheetname='5vs5')"
   ]
  },
  {
   "cell_type": "markdown",
   "metadata": {},
   "source": [
    "#Appendix:\n",
    " 1. DF = Pandas DataFrame\n",
    " 2. NHL_Goalies DF = NHL_Goalies \n",
    " 3. GAA_ DF = GAA_"
   ]
  },
  {
   "cell_type": "markdown",
   "metadata": {},
   "source": [
    "### Q1A) Create a new DF (*called NHL_Ones*) by:\n",
    "#### Filtering the correct DF for Goalies that played 1 game <font color='red'> (GP = Games played)</font>"
   ]
  },
  {
   "cell_type": "markdown",
   "metadata": {},
   "source": [
    "Notes: How would you find the 'GP' column in these files?"
   ]
  },
  {
   "cell_type": "code",
   "execution_count": 3,
   "metadata": {},
   "outputs": [],
   "source": [
    "#Answer 1A:\n",
    "#NHL_Goalies_GP = NHL_Goalies[[\"GP\"]]\n",
    "#print(NHL_Goalies_GP)\n",
    "\n",
    "NHL_Ones = NHL_Goalies.loc[NHL_Goalies['GP'] == 1]\n",
    "\n",
    "#print(NHL_Ones)\n",
    "#print(NHL_Ones['GP'])\n"
   ]
  },
  {
   "cell_type": "markdown",
   "metadata": {
    "collapsed": true
   },
   "source": [
    " ## Q1B) \n",
    " #### A. Find the value of the minimum Salary for the entire dataset \n",
    " #### B. Replace the missing values from the NHL_Ones DF with this\n",
    " #### C. Create a new DF after replacement by **adding** a column called  \"Adjusted_Salary\"\n",
    " #### D. I would like to only see the old \"Salary\" column and the \"Adjusted Salary\" column from the new Dataframe"
   ]
  },
  {
   "cell_type": "markdown",
   "metadata": {},
   "source": [
    "#### Notes:\n",
    "1. Note where the minimum Salary value is coming & where you are going to assign it to\n",
    "2. Read up on **replacement** of missing values\n",
    "3. Look up Numpy definition for null\n",
    "4. Look up Pandas **Series** Naming \n",
    "5. Review concat function in Pandas\n",
    "6. Review how to slice columns"
   ]
  },
  {
   "cell_type": "code",
   "execution_count": 4,
   "metadata": {},
   "outputs": [
    {
     "name": "stdout",
     "output_type": "stream",
     "text": [
      "575000.0\n",
      "1          NaN\n",
      "13         NaN\n",
      "14    575000.0\n",
      "16    708750.0\n",
      "22    780000.0\n",
      "27    650000.0\n",
      "29    925000.0\n",
      "32         NaN\n",
      "42    575000.0\n",
      "50    673334.0\n",
      "67         NaN\n",
      "80         NaN\n",
      "87    832500.0\n",
      "89         NaN\n",
      "90    892500.0\n",
      "Name: Salary, dtype: float64\n",
      "1     575000.0\n",
      "13    575000.0\n",
      "14    575000.0\n",
      "16    708750.0\n",
      "22    780000.0\n",
      "27    650000.0\n",
      "29    925000.0\n",
      "32    575000.0\n",
      "42    575000.0\n",
      "50    673334.0\n",
      "67    575000.0\n",
      "80    575000.0\n",
      "87    832500.0\n",
      "89    575000.0\n",
      "90    892500.0\n",
      "Name: Adjusted_Salary, dtype: float64\n"
     ]
    },
    {
     "name": "stderr",
     "output_type": "stream",
     "text": [
      "/Users/Alice/miniconda2/envs/myenv/lib/python3.7/site-packages/ipykernel_launcher.py:9: SettingWithCopyWarning: \n",
      "A value is trying to be set on a copy of a slice from a DataFrame.\n",
      "Try using .loc[row_indexer,col_indexer] = value instead\n",
      "\n",
      "See the caveats in the documentation: http://pandas.pydata.org/pandas-docs/stable/indexing.html#indexing-view-versus-copy\n",
      "  if __name__ == '__main__':\n",
      "/Users/Alice/miniconda2/envs/myenv/lib/python3.7/site-packages/pandas/core/generic.py:5434: SettingWithCopyWarning: \n",
      "A value is trying to be set on a copy of a slice from a DataFrame\n",
      "\n",
      "See the caveats in the documentation: http://pandas.pydata.org/pandas-docs/stable/indexing.html#indexing-view-versus-copy\n",
      "  self._update_inplace(new_data)\n"
     ]
    }
   ],
   "source": [
    "#Answer 1Ba:\n",
    "#finding the minimum salary for the entire dataset\n",
    "min_salary = NHL_Goalies['Salary'].min()\n",
    "print(min_salary)\n",
    "\n",
    "#Answer 1Bb&c:\n",
    "\n",
    "#Create a new column to modify for the goalies who played only one game\n",
    "NHL_Ones['Adjusted_Salary'] = NHL_Ones['Salary']\n",
    "#print(NHL_Ones['Salary'])\n",
    "#print(NHL_Ones['Adjusted_Salary'])\n",
    "\n",
    "#fill that column in with the minimum salary for the dataset\n",
    "NHL_Ones['Adjusted_Salary'].fillna(min_salary, inplace=True)\n",
    "\n",
    "#Answer 1Bd\n",
    "print(NHL_Ones['Salary'])\n",
    "print(NHL_Ones['Adjusted_Salary'])\n"
   ]
  },
  {
   "cell_type": "markdown",
   "metadata": {
    "collapsed": true
   },
   "source": [
    "### Q2) A. Subset the NHL goalies data to include Goalies that played in more than 25 games AND have a GAA lower than 3.00 and store the New DF as 'workhorse'\n"
   ]
  },
  {
   "cell_type": "markdown",
   "metadata": {},
   "source": [
    "Notes: \n",
    "1. Review notes creating \"boolean\" masks\n",
    "2. Internet search for Multiple Boolean indexing on multiple columns in a Pandas DataFrame"
   ]
  },
  {
   "cell_type": "code",
   "execution_count": 5,
   "metadata": {},
   "outputs": [],
   "source": [
    "#Answer 2:\n",
    "workhorse = NHL_Goalies[(NHL_Goalies['GP']>25) & (NHL_Goalies['GAA']<3)]"
   ]
  },
  {
   "cell_type": "markdown",
   "metadata": {},
   "source": [
    "### Q3. Create 2 python functions that: \n",
    "<br> </br>\n",
    "#### A. Creates/*Returns* a new DataFrame that displays the number of missing values in every column. \n",
    "#### This new DataFrame has one new column named \"Missing\" with the sum of the missing values from the columns"
   ]
  },
  {
   "cell_type": "markdown",
   "metadata": {},
   "source": [
    "### Notes \n",
    "***Function takes one argument: An input DataFrame***\n",
    "<br> </br>\n",
    "<br> </br>\n",
    "** One Proposed method:**\n",
    "1. Create a pandas series object from the sum of the nulls in every column\n",
    "2. Convert the series object to a DataFrame and pass the list of column names from the input DataFrame as the index. (read Pandas Help online)\n",
    "3. During the conversion of the series object to a DataFrame pass a columns argument to create a name for the new Output DataFrame's Column."
   ]
  },
  {
   "cell_type": "markdown",
   "metadata": {},
   "source": [
    "### Expected Output:\n",
    "<img src='Missing_cols_expectedoutput.png'>"
   ]
  },
  {
   "cell_type": "code",
   "execution_count": 6,
   "metadata": {},
   "outputs": [
    {
     "name": "stdout",
     "output_type": "stream",
     "text": [
      "<class 'pandas.core.series.Series'>\n",
      "      Last Name First Name Team         DOB        Birth City  S/P Cntry  Nat  \\\n",
      "0         Alves      Jorge  CAR  1979-01-30            Boston   MA   USA  USA   \n",
      "1      Campbell       Jack  LAK  1992-01-09        Port Huron   MI   USA  USA   \n",
      "2        Comrie       Eric  WPG  1995-07-06          Edmonton   AB   CAN  CAN   \n",
      "3        Copley    Pheonix  STL  1992-01-18        North Pole   AK   USA  USA   \n",
      "4      Driedger      Chris  OTT  1994-05-18          Winnipeg   MB   CAN  CAN   \n",
      "5      Forsberg      Anton  CBJ  1992-11-27         Härnösand  NaN   SWE  SWE   \n",
      "6       Gillies        Jon  CGY  1994-01-22           Concord   NH   USA  USA   \n",
      "7    Gudlevskis   Kristers  TBL  1992-07-31        Aizkraukle  NaN   LVA  LVA   \n",
      "8         Jarry    Tristan  PIT  1995-04-29            Surrey   BC   CAN  CAN   \n",
      "9     Langhamer      Marek  ARI  1994-07-22  Moravska Trebova  NaN   CZE  CZE   \n",
      "10  Nedeljkovic       Alex  CAR  1996-01-07             Parma   OH   USA  USA   \n",
      "11      Rittich      David  CGY  1992-08-19           Jihlava  NaN   CZE  CZE   \n",
      "12       Subban    Malcolm  BOS  1993-12-21           Toronto   ON   CAN  CAN   \n",
      "13     Tokarski     Dustin  ANA  1989-09-16            Watson   SK   CAN  CAN   \n",
      "14      Ullmark      Linus  BUF  1993-07-31           Lugnvik  NaN   SWE  SWE   \n",
      "15            0          0    0           0                 0    5     0    0   \n",
      "\n",
      "    Ht   Wt       ...               Pace   1st   2nd   3rd  Star  GPS  Ginj  \\\n",
      "0   69  185       ...           0.000000   NaN   NaN   NaN   NaN  0.0   NaN   \n",
      "1   74  197       ...          96.000000   NaN   NaN   NaN   NaN  0.1   NaN   \n",
      "2   73  175       ...         124.451939   NaN   NaN   NaN   NaN  0.2   NaN   \n",
      "3   76  196       ...         104.864253   NaN   NaN   NaN   NaN -0.1   NaN   \n",
      "4   76  205       ...         123.000000   NaN   NaN   NaN   NaN -0.2   NaN   \n",
      "5   75  192       ...         110.611664   NaN   NaN   NaN   NaN  0.0   NaN   \n",
      "6   78  223       ...         109.000000   1.0   0.0   0.0   1.0  0.3   NaN   \n",
      "7   75  223       ...         125.764192   NaN   NaN   NaN   NaN  0.0   NaN   \n",
      "8   74  194       ...         107.234043   NaN   NaN   NaN   NaN  0.0   NaN   \n",
      "9   74  193       ...          88.936627   NaN   NaN   NaN   NaN  0.0   NaN   \n",
      "10  72  198       ...         102.170284   NaN   NaN   NaN   NaN  0.3   NaN   \n",
      "11  75  202       ...         108.000000   NaN   NaN   NaN   NaN  0.0   NaN   \n",
      "12  74  200       ...         107.843137   NaN   NaN   NaN   NaN -0.1   NaN   \n",
      "13  72  205       ...          91.993186   NaN   NaN   NaN   NaN  0.1   NaN   \n",
      "14  76  221       ...         100.113507   NaN   NaN   NaN   NaN  0.2   NaN   \n",
      "15   0    0       ...           0.000000  14.0  14.0  14.0  14.0  0.0  15.0   \n",
      "\n",
      "    Injuries  CHIP  Adjusted_Salary  \n",
      "0        NaN               575000.0  \n",
      "1        NaN               575000.0  \n",
      "2        NaN               575000.0  \n",
      "3        NaN               708750.0  \n",
      "4        NaN               780000.0  \n",
      "5        NaN               650000.0  \n",
      "6        NaN               925000.0  \n",
      "7        NaN               575000.0  \n",
      "8        NaN               575000.0  \n",
      "9        NaN               673334.0  \n",
      "10       NaN               575000.0  \n",
      "11       NaN               575000.0  \n",
      "12       NaN               832500.0  \n",
      "13       NaN               575000.0  \n",
      "14       NaN               892500.0  \n",
      "15        15     0              0.0  \n",
      "\n",
      "[16 rows x 112 columns]\n",
      "Row 15 represents the number of missing values in every COLUMN\n"
     ]
    }
   ],
   "source": [
    "# Answer 3A: CODE HERE; Please comment each part\n",
    "\n",
    "#create an object that sums the number of nulls in each column\n",
    "na_count = NHL_Ones.isna().sum()\n",
    "\n",
    "#It's not a datafram, it's just a pandas object still\n",
    "print(type(na_count))\n",
    "#print(na_count)\n",
    "\n",
    "NHL_Ones_long = NHL_Ones.append(na_count, ignore_index=True)\n",
    "print(NHL_Ones_long)\n",
    "\n",
    "print('Row 15 represents the number of missing values in every COLUMN')\n"
   ]
  },
  {
   "cell_type": "markdown",
   "metadata": {},
   "source": [
    "#### B. Creates a new *column* called 'missing_values' in the input DF that sums the missing values in each row."
   ]
  },
  {
   "cell_type": "markdown",
   "metadata": {
    "collapsed": true
   },
   "source": [
    "### Notes: \n",
    "***Function takes one argument: An input DataFrame***\n",
    "<br> </br>\n",
    "<br> </br>\n",
    "Check out how to use axis argument and how to create new columns in an existing dataframe"
   ]
  },
  {
   "cell_type": "markdown",
   "metadata": {},
   "source": [
    "### Expected Output:\n",
    "<img src= 'missingrows_expectedoutput.png'>"
   ]
  },
  {
   "cell_type": "code",
   "execution_count": 7,
   "metadata": {},
   "outputs": [
    {
     "name": "stdout",
     "output_type": "stream",
     "text": [
      "      Last Name  Nas\n",
      "1         Alves   18\n",
      "13     Campbell   11\n",
      "14       Comrie    7\n",
      "16       Copley   10\n",
      "22     Driedger    8\n",
      "27     Forsberg    8\n",
      "29      Gillies    3\n",
      "32   Gudlevskis   12\n",
      "42        Jarry    7\n",
      "50    Langhamer    9\n",
      "67  Nedeljkovic   11\n",
      "80      Rittich   15\n",
      "87       Subban    7\n",
      "89     Tokarski   11\n",
      "90      Ullmark    8\n"
     ]
    },
    {
     "name": "stderr",
     "output_type": "stream",
     "text": [
      "/Users/Alice/miniconda2/envs/myenv/lib/python3.7/site-packages/ipykernel_launcher.py:7: SettingWithCopyWarning: \n",
      "A value is trying to be set on a copy of a slice from a DataFrame.\n",
      "Try using .loc[row_indexer,col_indexer] = value instead\n",
      "\n",
      "See the caveats in the documentation: http://pandas.pydata.org/pandas-docs/stable/indexing.html#indexing-view-versus-copy\n",
      "  import sys\n"
     ]
    }
   ],
   "source": [
    "#Answer 3B here; Please comment each part\n",
    "\n",
    "#counts number of missing pieces of data in each ROW\n",
    "na_row_count = NHL_Ones.shape[1] - NHL_Ones.count(axis=1)\n",
    "\n",
    "#Give it a name\n",
    "NHL_Ones[\"Nas\"]=na_row_count\n",
    "\n",
    "#Just checking it works\n",
    "print(NHL_Ones[['Last Name','Nas']])"
   ]
  },
  {
   "cell_type": "markdown",
   "metadata": {
    "collapsed": true
   },
   "source": [
    "### Q4) Matplotlib Question Plot in one figure and 2 side by side plots:\n",
    "<br> </br>\n",
    "#### A. Plot the histogram of the all the GAA of the NHL_Goalies DF  AND the goalies that played in more than 25 games with a GAA < 3.00, \n",
    "#### B. Label the Titles of the plots differently (*ie EntireSet + Subset*)\n",
    "#### C. Change the color of one of the plots from the default"
   ]
  },
  {
   "cell_type": "code",
   "execution_count": 8,
   "metadata": {
    "scrolled": true
   },
   "outputs": [
    {
     "data": {
      "text/plain": [
       "Text(0.5,1,'Subset')"
      ]
     },
     "execution_count": 8,
     "metadata": {},
     "output_type": "execute_result"
    },
    {
     "data": {
      "image/png": "[encoded data removed]",
      "text/plain": [
       "<Figure size 432x288 with 1 Axes>"
      ]
     },
     "metadata": {
      "needs_background": "light"
     },
     "output_type": "display_data"
    }
   ],
   "source": [
    "plt.hist(workhorse['GAA'],color='Blue')\n",
    "plt.title('Subset')"
   ]
  },
  {
   "cell_type": "code",
   "execution_count": 9,
   "metadata": {},
   "outputs": [
    {
     "data": {
      "text/plain": [
       "Text(0.5,1,'EntireSet')"
      ]
     },
     "execution_count": 9,
     "metadata": {},
     "output_type": "execute_result"
    },
    {
     "data": {
      "image/png": "[encoded data removed]",
      "text/plain": [
       "<Figure size 432x288 with 1 Axes>"
      ]
     },
     "metadata": {
      "needs_background": "light"
     },
     "output_type": "display_data"
    }
   ],
   "source": [
    "plt.hist(NHL_Goalies['GAA'],color='Orange')\n",
    "plt.title('EntireSet')"
   ]
  },
  {
   "cell_type": "markdown",
   "metadata": {},
   "source": [
    "# Notes\n",
    "\n",
    "1. convert your column of interest into a NumPY array (look up online for usage)\n",
    "2. Review: https://matplotlib.org/devdocs/api/_as_gen/matplotlib.pyplot.hist.html"
   ]
  },
  {
   "cell_type": "code",
   "execution_count": 10,
   "metadata": {},
   "outputs": [
    {
     "name": "stdout",
     "output_type": "stream",
     "text": [
      "[2.42224487 0.         2.66888928 2.27982984 2.64242561 2.49851577\n",
      " 3.44919359 3.41674839 1.98922503 2.53754958 2.05553358 1.98526094\n",
      " 2.17636627 0.         4.04721754 2.47804109 5.09049774 3.45667447\n",
      " 2.55015091 2.38069388 1.9990095  3.07753255 6.         2.25119745\n",
      " 2.55236868 3.935382   3.02082108 4.09672831 2.21668616 1.\n",
      " 2.68725155 2.04022458 0.         3.1006181  2.80289425 4.08460977\n",
      " 1.52833793 2.88773755 2.0705584  2.10493658 2.9165659  2.3851136\n",
      " 3.06382979 2.59288695 2.39977897 2.64471528 2.64212725 2.88418966\n",
      " 3.13380393 2.64256549 3.86680988 2.67804706 2.85161229 3.42395181\n",
      " 1.47904684 2.74037423 2.6820637  2.6253264  4.34701839 2.66078138\n",
      " 4.73017363 2.69686688 3.96853234 2.80212339 2.66694324 3.04460166\n",
      " 2.40798322 0.         2.81600626 3.29765693 2.66801415 3.54948805\n",
      " 3.15987461 2.97844175 2.23292942 2.25576024 2.26298434 2.23399918\n",
      " 2.52948557 2.42167172 3.         2.35016321 2.81614436 3.53775758\n",
      " 2.9230513  1.51366503 2.07400842 5.88235294 2.38938053 0.\n",
      " 3.06469921 3.38333313 2.60660717 2.68662905 2.94331395]\n",
      "<class 'numpy.ndarray'>\n"
     ]
    }
   ],
   "source": [
    "#Answer 4 here: please comment\n",
    "\n",
    "#make a new object that's just GAA, and make it into a NumPY array\n",
    "b=NHL_Goalies.iloc[:,25].values\n",
    "\n",
    "#check it's really GAA values, and really a NumPY array\n",
    "print(b)\n",
    "print(type(b))"
   ]
  },
  {
   "cell_type": "markdown",
   "metadata": {
    "collapsed": true
   },
   "source": [
    "### Q5) GroupBy Question\n",
    "##### 1. Subset the NHL_Goalies DataFrame where Injuries is not known <font color='red'>(Injuries=NaN)</font>; \n",
    "##### 2. Use a Merge with the GAA_  DF to produce a NEW DF (*called mergedDF*) \n",
    "###### *** USE A JOIN THAT PRESERVES ORDER AND USES THE INTERSECTION OF KEYS***\n",
    "###### *** USE BOTH THE LEFT AND RIGHT INDEXES AS JOIN KEYS***\n",
    "##### 3. From the mergedDF keep FirstName/LastName/Team/Cntry/ SV% /GA/GAA/ TOI (note one copy for any duplicate column)\n",
    "##### 4. GroupBy country on mergedDF and aggregate The Means, Mins, and Maximum of the kept columns\n",
    "#### 5. Create a dataframe of the <font color='red'>TOI </font>groupby object and write it to a comma seperated value file called ('TOI_2017.csv')"
   ]
  },
  {
   "cell_type": "markdown",
   "metadata": {},
   "source": [
    "## Notes:\n",
    "\n",
    "1. Review or read up pandas documentation on:\n",
    "    - how to create selection criteria\n",
    "    - how aggs/joins work: https://pandas.pydata.org/pandas-docs/stable/merging.html\n",
    "2. https://pandas.pydata.org/pandas-docs/stable/generated/pandas.DataFrame.to_csv.html\n",
    "3. https://stackoverflow.com/questions/14734533/how-to-access-pandas-groupby-dataframe-by-key\n",
    "4. https://pandas.pydata.org/pandas-docs/stable/generated/pandas.Series.get.html"
   ]
  },
  {
   "cell_type": "code",
   "execution_count": 48,
   "metadata": {},
   "outputs": [
    {
     "name": "stderr",
     "output_type": "stream",
     "text": [
      "/Users/Alice/miniconda2/envs/myenv/lib/python3.7/site-packages/ipykernel_launcher.py:12: SettingWithCopyWarning: \n",
      "A value is trying to be set on a copy of a slice from a DataFrame.\n",
      "Try using .loc[row_indexer,col_indexer] = value instead\n",
      "\n",
      "See the caveats in the documentation: http://pandas.pydata.org/pandas-docs/stable/indexing.html#indexing-view-versus-copy\n",
      "  if sys.path[0] == '':\n",
      "/Users/Alice/miniconda2/envs/myenv/lib/python3.7/site-packages/ipykernel_launcher.py:13: SettingWithCopyWarning: \n",
      "A value is trying to be set on a copy of a slice from a DataFrame.\n",
      "Try using .loc[row_indexer,col_indexer] = value instead\n",
      "\n",
      "See the caveats in the documentation: http://pandas.pydata.org/pandas-docs/stable/indexing.html#indexing-view-versus-copy\n",
      "  del sys.path[0]\n"
     ]
    }
   ],
   "source": [
    "#Answer 5 here: please comments\n",
    "#1 Subset the NHL_Goalies DataFrame where Injuries is not known (Injuries=NaN);\n",
    "NHL_Goalies_unknownInjuries = NHL_Goalies[NHL_Goalies['Injuries'].isna()]\n",
    "#print(NHL_Goalies_unknownInjuries)\n",
    "\n",
    "\n",
    "#2. Use a Merge with the GAA_ DF to produce a NEW DF (called mergedDF)\n",
    "#* USE A JOIN THAT PRESERVES ORDER AND USES THE INTERSECTION OF KEYS*\n",
    "#* USE BOTH THE LEFT AND RIGHT INDEXES AS JOIN KEYS*\n",
    "\n",
    "#Made a unique ID in both datasets\n",
    "NHL_Goalies_unknownInjuries['FullName'] = NHL_Goalies_unknownInjuries['Last Name'] + NHL_Goalies_unknownInjuries['First Name']\n",
    "workhorse['FullName'] = workhorse['Last Name'] + workhorse['First Name']\n",
    "\n",
    "#This didn't work. I thought an outer join was what the question wanted, but it's a mess, so I've gone with the default (inner)\n",
    "#mergedDF = pd.merge(NHL_Goalies_unknownInjuries,workhorse,how='outer',on='FullName')\n",
    "mergedDF = pd.merge(NHL_Goalies_unknownInjuries,workhorse[['FullName']],on='FullName')\n",
    "#print(mergedDF)\n",
    "#print(workhorse)\n",
    "#this duplicates all the columns, which is obviously wrong, unless I put workhorse[['FullName']]\n",
    "\n",
    "#3. From the mergedDF keep FirstName/LastName/Team/Cntry/ SV% /GA/GAA/ TOI (note one copy for any duplicate column)\n",
    "mergedDF_partial = mergedDF[['First Name','Last Name','Team','Cntry','SV%','GA','GAA']]\n",
    "#print(mergedDF_partial)\n",
    "\n",
    "#4. GroupBy country on mergedDF and aggregate The Means, Mins, and Maximum of the kept columns\n",
    "mergedDF_byCountry_means = mergedDF.groupby('Cntry').mean()\n",
    "mergedDF_byCountry_mins = mergedDF.groupby('Cntry').min()\n",
    "mergedDF_byCountry_maxs = mergedDF.groupby('Cntry').max()\n",
    "#print(mergedDF_byCountry)\n",
    "\n",
    "#5. Create a dataframe of the TOI groupby object and write it to a comma seperated value file called ('TOI_2017.csv')\n",
    "#I don't know what TOI is, so I'm just going to write mergedDF_byCountry_means as a csv\n",
    "np.savetxt('mergedDF_byCountry_means.csv', mergedDF_byCountry_means, delimiter=',')"
   ]
  },
  {
   "cell_type": "markdown",
   "metadata": {},
   "source": [
    "# Q6) Write a function(s)  \n",
    "## that subsets a dataframe by removing rows that are WITHIN the InterQuartile Region of a specified column\n",
    "<br> </br>\n",
    "### The function takes as input \n",
    "##### A: Pandas_Dataframe (For example use NHL_GoaliesDF)\n",
    "##### B. Column name\n",
    "### Add a condition that returns an error if the Column Name chosen is not:\n",
    "##### A. Numeric Dtype\n",
    "##### B. Does not exist in the Numeric Columns\n",
    "### The output is a DataFrame that removes rows outside of the specified columns IQR\n",
    "<br> </br>\n",
    "<font color='red'>**You can use smaller helper functions **<font>\n",
    "<br> </br>\n",
    "See --> <href>=https://en.wikipedia.org/wiki/Interquartile_range</href>\n",
    "#hint: There are several pandas subfunctions that can be useful"
   ]
  },
  {
   "cell_type": "code",
   "execution_count": 58,
   "metadata": {},
   "outputs": [
    {
     "ename": "SyntaxError",
     "evalue": "invalid syntax (<ipython-input-58-eb3230655dcb>, line 15)",
     "output_type": "error",
     "traceback": [
      "\u001b[0;36m  File \u001b[0;32m\"<ipython-input-58-eb3230655dcb>\"\u001b[0;36m, line \u001b[0;32m15\u001b[0m\n\u001b[0;31m    print df_none_in_IQR(NHL_Goalies,'GAA')\u001b[0m\n\u001b[0m                       ^\u001b[0m\n\u001b[0;31mSyntaxError\u001b[0m\u001b[0;31m:\u001b[0m invalid syntax\n"
     ]
    }
   ],
   "source": [
    "#I have not done this question.\n",
    "\n",
    "#First, I'll just do this directly on the dataset:\n",
    "#Q3=np.percentile(NHL_Goalies[['GAA']],75)\n",
    "#Q1=np.percentile(NHL_Goalies[['GAA']],25)\n",
    "#not_in_IQR = NHL_Goalies[(NHL_Goalies['GAA']<Q1) | (NHL_Goalies['GAA']>Q3)]\n",
    "\n",
    "\n",
    "#THIS DOES NOT WORK AS A FUNCTION\n",
    "def df_none_in_IQR(df,ColumnName):\n",
    "    Q3=np.percentile(df[['ColumnName']],75)\n",
    "    Q1=np.percentile(df[['ColumnName']],25)\n",
    "    not_in_IQR = df[(df['ColumnName']<Q1) | (df['ColumnName']>Q3)]\n",
    "    \n",
    "    return not_in_IQR\n",
    "\n",
    "print df_none_in_IQR(NHL_Goalies,'GAA')"
   ]
  }
 ],
 "metadata": {
  "anaconda-cloud": {},
  "kernelspec": {
   "display_name": "Python 3",
   "language": "python",
   "name": "python3"
  },
  "language_info": {
   "codemirror_mode": {
    "name": "ipython",
    "version": 3
   },
   "file_extension": ".py",
   "mimetype": "text/x-python",
   "name": "python",
   "nbconvert_exporter": "python",
   "pygments_lexer": "ipython3",
   "version": "3.7.1"
  }
 },
 "nbformat": 4,
 "nbformat_minor": 2
}
