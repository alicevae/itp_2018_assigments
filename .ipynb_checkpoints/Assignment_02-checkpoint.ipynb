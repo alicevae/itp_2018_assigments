{
 "cells": [
  {
   "cell_type": "markdown",
   "metadata": {},
   "source": [
    "# Pandas and Matplotlib Homework"
   ]
  },
  {
   "cell_type": "code",
   "execution_count": 6,
   "metadata": {},
   "outputs": [],
   "source": [
    "#load the libraries using the normal convention\n",
    "import pandas as pd\n",
    "import numpy as np\n",
    "import matplotlib.pyplot as plt\n",
    "##prevent plotting errors\n",
    "%matplotlib inline"
   ]
  },
  {
   "cell_type": "code",
   "execution_count": 7,
   "metadata": {},
   "outputs": [
    {
     "name": "stderr",
     "output_type": "stream",
     "text": [
      "/Users/Alice/miniconda2/envs/myenv/lib/python3.7/site-packages/pandas/io/excel.py:329: FutureWarning: The `sheetname` keyword is deprecated, use `sheet_name` instead\n",
      "  **kwds)\n"
     ]
    }
   ],
   "source": [
    "#Load our excel files of interest into pandas\n",
    "NHL_Goalies = pd.read_excel('NHLGoalies2016_2017.xls',na_values='',sheetname=0) \n",
    "GAA_ = pd.read_excel('NHLGoalies2016_2017.xls',na_values='',sheetname='5vs5')"
   ]
  },
  {
   "cell_type": "markdown",
   "metadata": {},
   "source": [
    "#Appendix:\n",
    " 1. DF = Pandas DataFrame\n",
    " 2. NHL_Goalies DF = NHL_Goalies \n",
    " 3. GAA_ DF = GAA_"
   ]
  },
  {
   "cell_type": "markdown",
   "metadata": {},
   "source": [
    "### Q1A) Create a new DF (*called NHL_Ones*) by:\n",
    "#### Filtering the correct DF for Goalies that played 1 game <font color='red'> (GP = Games played)</font>"
   ]
  },
  {
   "cell_type": "markdown",
   "metadata": {},
   "source": [
    "Notes: How would you find the 'GP' column in these files?"
   ]
  },
  {
   "cell_type": "code",
   "execution_count": 21,
   "metadata": {},
   "outputs": [
    {
     "name": "stdout",
     "output_type": "stream",
     "text": [
      "      Last Name First Name Team         DOB        Birth City  S/P Cntry  Nat  \\\n",
      "1         Alves      Jorge  CAR  1979-01-30            Boston   MA   USA  USA   \n",
      "13     Campbell       Jack  LAK  1992-01-09        Port Huron   MI   USA  USA   \n",
      "14       Comrie       Eric  WPG  1995-07-06          Edmonton   AB   CAN  CAN   \n",
      "16       Copley    Pheonix  STL  1992-01-18        North Pole   AK   USA  USA   \n",
      "22     Driedger      Chris  OTT  1994-05-18          Winnipeg   MB   CAN  CAN   \n",
      "27     Forsberg      Anton  CBJ  1992-11-27         Härnösand  NaN   SWE  SWE   \n",
      "29      Gillies        Jon  CGY  1994-01-22           Concord   NH   USA  USA   \n",
      "32   Gudlevskis   Kristers  TBL  1992-07-31        Aizkraukle  NaN   LVA  LVA   \n",
      "42        Jarry    Tristan  PIT  1995-04-29            Surrey   BC   CAN  CAN   \n",
      "50    Langhamer      Marek  ARI  1994-07-22  Moravska Trebova  NaN   CZE  CZE   \n",
      "67  Nedeljkovic       Alex  CAR  1996-01-07             Parma   OH   USA  USA   \n",
      "80      Rittich      David  CGY  1992-08-19           Jihlava  NaN   CZE  CZE   \n",
      "87       Subban    Malcolm  BOS  1993-12-21           Toronto   ON   CAN  CAN   \n",
      "89     Tokarski     Dustin  ANA  1989-09-16            Watson   SK   CAN  CAN   \n",
      "90      Ullmark      Linus  BUF  1993-07-31           Lugnvik  NaN   SWE  SWE   \n",
      "\n",
      "    Ht   Wt  ...    Cap Hit        Pace  1st  2nd  3rd  Star  GPS  Ginj  \\\n",
      "1   69  185  ...        NaN    0.000000  NaN  NaN  NaN   NaN  0.0   NaN   \n",
      "13  74  197  ...        NaN   96.000000  NaN  NaN  NaN   NaN  0.1   NaN   \n",
      "14  73  175  ...   645000.0  124.451939  NaN  NaN  NaN   NaN  0.2   NaN   \n",
      "16  76  196  ...   708750.0  104.864253  NaN  NaN  NaN   NaN -0.1   NaN   \n",
      "22  76  205  ...   755000.0  123.000000  NaN  NaN  NaN   NaN -0.2   NaN   \n",
      "27  75  192  ...   650000.0  110.611664  NaN  NaN  NaN   NaN  0.0   NaN   \n",
      "29  78  223  ...   925000.0  109.000000  1.0  0.0  0.0   1.0  0.3   NaN   \n",
      "32  75  223  ...        NaN  125.764192  NaN  NaN  NaN   NaN  0.0   NaN   \n",
      "42  74  194  ...   630833.0  107.234043  NaN  NaN  NaN   NaN  0.0   NaN   \n",
      "50  74  193  ...   648333.0   88.936627  NaN  NaN  NaN   NaN  0.0   NaN   \n",
      "67  72  198  ...        NaN  102.170284  NaN  NaN  NaN   NaN  0.3   NaN   \n",
      "80  75  202  ...        NaN  108.000000  NaN  NaN  NaN   NaN  0.0   NaN   \n",
      "87  74  200  ...   863333.0  107.843137  NaN  NaN  NaN   NaN -0.1   NaN   \n",
      "89  72  205  ...        NaN   91.993186  NaN  NaN  NaN   NaN  0.1   NaN   \n",
      "90  76  221  ...   775833.0  100.113507  NaN  NaN  NaN   NaN  0.2   NaN   \n",
      "\n",
      "    Injuries  CHIP  \n",
      "1        NaN        \n",
      "13       NaN        \n",
      "14       NaN        \n",
      "16       NaN        \n",
      "22       NaN        \n",
      "27       NaN        \n",
      "29       NaN        \n",
      "32       NaN        \n",
      "42       NaN        \n",
      "50       NaN        \n",
      "67       NaN        \n",
      "80       NaN        \n",
      "87       NaN        \n",
      "89       NaN        \n",
      "90       NaN        \n",
      "\n",
      "[15 rows x 111 columns]\n",
      "1     1\n",
      "13    1\n",
      "14    1\n",
      "16    1\n",
      "22    1\n",
      "27    1\n",
      "29    1\n",
      "32    1\n",
      "42    1\n",
      "50    1\n",
      "67    1\n",
      "80    1\n",
      "87    1\n",
      "89    1\n",
      "90    1\n",
      "Name: GP, dtype: int64\n"
     ]
    }
   ],
   "source": [
    "#Answer 1A:\n",
    "#NHL_Goalies_GP = NHL_Goalies[[\"GP\"]]\n",
    "#print(NHL_Goalies_GP)\n",
    "\n",
    "NHL_Ones = NHL_Goalies.loc[NHL_Goalies['GP'] == 1]\n",
    "\n",
    "#print(NHL_Ones)\n",
    "#print(NHL_Ones['GP'])\n"
   ]
  },
  {
   "cell_type": "markdown",
   "metadata": {
    "collapsed": true
   },
   "source": [
    " ## Q1B) \n",
    " #### A. Find the value of the minimum Salary for the entire dataset \n",
    " #### B. Replace the missing values from the NHL_Ones DF with this\n",
    " #### C. Create a new DF after replacement by **adding** a column called  \"Adjusted_Salary\"\n",
    " #### D. I would like to only see the old \"Salary\" column and the \"Adjusted Salary\" column from the new Dataframe"
   ]
  },
  {
   "cell_type": "markdown",
   "metadata": {},
   "source": [
    "#### Notes:\n",
    "1. Note where the minimum Salary value is coming & where you are going to assign it to\n",
    "2. Read up on **replacement** of missing values\n",
    "3. Look up Numpy definition for null\n",
    "4. Look up Pandas **Series** Naming \n",
    "5. Review concat function in Pandas\n",
    "6. Review how to slice columns"
   ]
  },
  {
   "cell_type": "code",
   "execution_count": 24,
   "metadata": {},
   "outputs": [
    {
     "name": "stdout",
     "output_type": "stream",
     "text": [
      "575000.0\n",
      "1     575000.0\n",
      "13    575000.0\n",
      "14    575000.0\n",
      "16    708750.0\n",
      "22    780000.0\n",
      "27    650000.0\n",
      "29    925000.0\n",
      "32    575000.0\n",
      "42    575000.0\n",
      "50    673334.0\n",
      "67    575000.0\n",
      "80    575000.0\n",
      "87    832500.0\n",
      "89    575000.0\n",
      "90    892500.0\n",
      "Name: Salary, dtype: float64\n"
     ]
    },
    {
     "name": "stderr",
     "output_type": "stream",
     "text": [
      "/Users/Alice/miniconda2/envs/myenv/lib/python3.7/site-packages/pandas/core/generic.py:5434: SettingWithCopyWarning: \n",
      "A value is trying to be set on a copy of a slice from a DataFrame\n",
      "\n",
      "See the caveats in the documentation: http://pandas.pydata.org/pandas-docs/stable/indexing.html#indexing-view-versus-copy\n",
      "  self._update_inplace(new_data)\n"
     ]
    },
    {
     "ename": "TypeError",
     "evalue": "'NoneType' object is not subscriptable",
     "output_type": "error",
     "traceback": [
      "\u001b[0;31m---------------------------------------------------------------------------\u001b[0m",
      "\u001b[0;31mTypeError\u001b[0m                                 Traceback (most recent call last)",
      "\u001b[0;32m<ipython-input-24-bc25af16aa6f>\u001b[0m in \u001b[0;36m<module>\u001b[0;34m()\u001b[0m\n\u001b[1;32m      7\u001b[0m \u001b[0mNHL_Ones_Modified\u001b[0m \u001b[0;34m=\u001b[0m \u001b[0mNHL_Ones\u001b[0m\u001b[0;34m[\u001b[0m\u001b[0;34m'Salary'\u001b[0m\u001b[0;34m]\u001b[0m\u001b[0;34m.\u001b[0m\u001b[0mfillna\u001b[0m\u001b[0;34m(\u001b[0m\u001b[0mmin_salary\u001b[0m\u001b[0;34m,\u001b[0m \u001b[0minplace\u001b[0m\u001b[0;34m=\u001b[0m\u001b[0;32mTrue\u001b[0m\u001b[0;34m)\u001b[0m\u001b[0;34m\u001b[0m\u001b[0;34m\u001b[0m\u001b[0m\n\u001b[1;32m      8\u001b[0m \u001b[0;34m\u001b[0m\u001b[0m\n\u001b[0;32m----> 9\u001b[0;31m \u001b[0mprint\u001b[0m\u001b[0;34m(\u001b[0m\u001b[0mNHL_Ones_Modified\u001b[0m\u001b[0;34m[\u001b[0m\u001b[0;34m'Salary'\u001b[0m\u001b[0;34m]\u001b[0m\u001b[0;34m)\u001b[0m\u001b[0;34m\u001b[0m\u001b[0;34m\u001b[0m\u001b[0m\n\u001b[0m",
      "\u001b[0;31mTypeError\u001b[0m: 'NoneType' object is not subscriptable"
     ]
    }
   ],
   "source": [
    "#Answer 1B:\n",
    "min_salary = NHL_Goalies['Salary'].min()\n",
    "print(min_salary)\n",
    "\n",
    "#Answer 1C:\n",
    "print(NHL_Ones['Salary'])\n",
    "NHL_Ones_Modified = NHL_Ones['Salary'].fillna(min_salary, inplace=True)\n",
    "\n",
    "#print(NHL_Ones_Modified['Salary'])\n",
    "\n",
    "#Answer 1D\n"
   ]
  },
  {
   "cell_type": "markdown",
   "metadata": {
    "collapsed": true
   },
   "source": [
    "### Q2) A. Subset the NHL goalies data to include Goalies that played in more than 25 games AND have a GAA lower than 3.00 and store the New DF as 'workhorse'\n"
   ]
  },
  {
   "cell_type": "markdown",
   "metadata": {},
   "source": [
    "Notes: \n",
    "1. Review notes creating \"boolean\" masks\n",
    "2. Internet search for Multiple Boolean indexing on multiple columns in a Pandas DataFrame"
   ]
  },
  {
   "cell_type": "code",
   "execution_count": null,
   "metadata": {
    "collapsed": true
   },
   "outputs": [],
   "source": [
    "#Answer 2:\n"
   ]
  },
  {
   "cell_type": "markdown",
   "metadata": {},
   "source": [
    "### Q3. Create 2 python functions that: \n",
    "<br> </br>\n",
    "#### A. Creates/*Returns* a new DataFrame that displays the number of missing values in every column. \n",
    "#### This new DataFrame has one new column named \"Missing\" with the sum of the missing values from the columns"
   ]
  },
  {
   "cell_type": "markdown",
   "metadata": {},
   "source": [
    "### Notes \n",
    "***Function takes one argument: An input DataFrame***\n",
    "<br> </br>\n",
    "<br> </br>\n",
    "** One Proposed method:**\n",
    "1. Create a pandas series object from the sum of the nulls in every column\n",
    "2. Convert the series object to a DataFrame and pass the list of column names from the input DataFrame as the index. (read Pandas Help online)\n",
    "3. During the conversion of the series object to a DataFrame pass a columns argument to create a name for the new Output DataFrame's Column."
   ]
  },
  {
   "cell_type": "markdown",
   "metadata": {},
   "source": [
    "### Expected Output:\n",
    "<img src='Missing_cols_expectedoutput.png'>"
   ]
  },
  {
   "cell_type": "code",
   "execution_count": null,
   "metadata": {
    "collapsed": true
   },
   "outputs": [],
   "source": [
    "# Answer 3A: CODE HERE; Please comment each part\n"
   ]
  },
  {
   "cell_type": "markdown",
   "metadata": {},
   "source": [
    "#### B. Creates a new *column* called 'missing_values' in the input DF that sums the missing values in each row."
   ]
  },
  {
   "cell_type": "markdown",
   "metadata": {
    "collapsed": true
   },
   "source": [
    "### Notes: \n",
    "***Function takes one argument: An input DataFrame***\n",
    "<br> </br>\n",
    "<br> </br>\n",
    "Check out how to use axis argument and how to create new columns in an existing dataframe"
   ]
  },
  {
   "cell_type": "markdown",
   "metadata": {},
   "source": [
    "### Expected Output:\n",
    "<img src= 'missingrows_expectedoutput.png'>"
   ]
  },
  {
   "cell_type": "code",
   "execution_count": null,
   "metadata": {
    "collapsed": true
   },
   "outputs": [],
   "source": [
    "#Answer 3B here; Please comment each part\n"
   ]
  },
  {
   "cell_type": "markdown",
   "metadata": {
    "collapsed": true
   },
   "source": [
    "### Q4) Matplotlib Question Plot in one figure and 2 side by side plots:\n",
    "<br> </br>\n",
    "#### A. Plot the histogram of the all the GAA of the NHL_Goalies DF  AND the goalies that played in more than 25 games with a GAA < 3.00, \n",
    "#### B. Label the Titles of the plots differently (*ie EntireSet + Subset*)\n",
    "#### C. Change the color of one of the plots from the default"
   ]
  },
  {
   "cell_type": "markdown",
   "metadata": {},
   "source": [
    "# Notes\n",
    "\n",
    "1. convert your column of interest into a NumPY array (look up online for usage)\n",
    "2. Review: https://matplotlib.org/devdocs/api/_as_gen/matplotlib.pyplot.hist.html"
   ]
  },
  {
   "cell_type": "code",
   "execution_count": null,
   "metadata": {
    "collapsed": true
   },
   "outputs": [],
   "source": [
    "#Answer 4 here: pleae comment"
   ]
  },
  {
   "cell_type": "markdown",
   "metadata": {
    "collapsed": true
   },
   "source": [
    "### Q5) GroupBy Question\n",
    "##### 1. Subset the NHL_Goalies DataFrame where Injuries is not known <font color='red'>(Injuries=NaN)</font>; \n",
    "##### 2. Use a Merge with the GAA_  DF to produce a NEW DF (*called mergedDF*) \n",
    "###### *** USE A JOIN THAT PRESERVES ORDER AND USES THE INTERSECTION OF KEYS***\n",
    "###### *** USE BOTH THE LEFT AND RIGHT INDEXES AS JOIN KEYS***\n",
    "##### 3. From the mergedDF keep FirstName/LastName/Team/Cntry/ SV% /GA/GAA/ TOI (note one copy for any duplicate column)\n",
    "##### 4. GroupBy country on mergedDF and aggregate The Means, Mins, and Maximum of the kept columns\n",
    "#### 5. Create a dataframe of the <font color='red'>TOI </font>groupby object and write it to a comma seperated value file called ('TOI_2017.csv')"
   ]
  },
  {
   "cell_type": "markdown",
   "metadata": {},
   "source": [
    "## Notes:\n",
    "\n",
    "1. Review or read up pandas documentation on:\n",
    "    - how to create selection criteria\n",
    "    - how aggs/joins work: https://pandas.pydata.org/pandas-docs/stable/merging.html\n",
    "2. https://pandas.pydata.org/pandas-docs/stable/generated/pandas.DataFrame.to_csv.html\n",
    "3. https://stackoverflow.com/questions/14734533/how-to-access-pandas-groupby-dataframe-by-key\n",
    "4. https://pandas.pydata.org/pandas-docs/stable/generated/pandas.Series.get.html"
   ]
  },
  {
   "cell_type": "code",
   "execution_count": null,
   "metadata": {
    "collapsed": true
   },
   "outputs": [],
   "source": [
    "#Answer 5 here: please comments\n"
   ]
  },
  {
   "cell_type": "markdown",
   "metadata": {},
   "source": [
    "# Q6) Write a function(s)  \n",
    "## that subsets a dataframe by removing rows that are WITHIN the InterQuartile Region of a specified column\n",
    "<br> </br>\n",
    "### The function takes as input \n",
    "##### A: Pandas_Dataframe (For example use NHL_GoaliesDF)\n",
    "##### B. Column name\n",
    "### Add a condition that returns an error if the Column Name chosen is not:\n",
    "##### A. Numeric Dtype\n",
    "##### B. Does not exist in the Numeric Columns\n",
    "### The output is a DataFrame that removes rows outside of the specified columns IQR\n",
    "<br> </br>\n",
    "<font color='red'>**You can use smaller helper functions **<font>\n",
    "<br> </br>\n",
    "See --> <href>=https://en.wikipedia.org/wiki/Interquartile_range</href>\n",
    "#hint: There are several pandas subfunctions that can be useful"
   ]
  },
  {
   "cell_type": "code",
   "execution_count": null,
   "metadata": {
    "collapsed": true
   },
   "outputs": [],
   "source": [
    "#Answer Question 6 here"
   ]
  }
 ],
 "metadata": {
  "anaconda-cloud": {},
  "kernelspec": {
   "display_name": "Python 3",
   "language": "python",
   "name": "python3"
  },
  "language_info": {
   "codemirror_mode": {
    "name": "ipython",
    "version": 3
   },
   "file_extension": ".py",
   "mimetype": "text/x-python",
   "name": "python",
   "nbconvert_exporter": "python",
   "pygments_lexer": "ipython3",
   "version": "3.7.1"
  }
 },
 "nbformat": 4,
 "nbformat_minor": 2
}
